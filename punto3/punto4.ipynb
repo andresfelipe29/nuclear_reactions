{
 "cells": [
  {
   "cell_type": "code",
   "execution_count": 1,
   "metadata": {},
   "outputs": [],
   "source": [
    "import matplotlib as mpl\n",
    "\n",
    "fsize = 12\n",
    "mpl.rcParams['legend.fontsize'] = fsize\n",
    "mpl.rcParams[\"figure.figsize\"] = (6,5)\n",
    "mpl.rcParams['axes.labelsize'] = fsize\n",
    "mpl.rcParams['xtick.labelsize'] = fsize\n",
    "mpl.rcParams['ytick.labelsize'] = fsize\n",
    "mpl.rcParams['text.usetex'] = True\n",
    "mpl.rcParams['font.family'] = 'sans-serif'\n",
    "mpl.rcParams['mathtext.fontset'] = 'dejavusans'\n",
    "mpl.rcParams.update({'font.size': fsize})\n",
    "\n",
    "import matplotlib.pyplot as plt\n",
    "import numpy as np\n",
    "\n",
    "from scipy.special import laguerre\n",
    "from scipy.special import roots_laguerre"
   ]
  },
  {
   "cell_type": "markdown",
   "metadata": {},
   "source": [
    "Potenical efectivo entre dos particulas $\\alpha$\n",
    "\n",
    "$V^{eff}(r) = V_C(r)+\\bar{V}(r)+\\frac{\\hbar^2}{2\\mu}\\frac{l(l+1)}{r^2}$\n",
    "\n",
    "$V_C(r) = \\frac{1}{4\\pi\\varepsilon_0}\\frac{4e^2}{r} \\text{, for } r\\geq R_C \\approx R_P+R_T =2R_\\alpha$\n",
    "\n",
    "$~~~~~~~~~~~= \\frac{1}{4\\pi\\varepsilon_0}\\frac{4e^2}{2R_C}\\left(3-\\frac{r^2}{R_C^2}\\right) \\text{, for } r < R_C$\n",
    "\n",
    "$\\bar{V}(r) = -V_0e^{-r^2/\\bar{R}^2}$"
   ]
  },
  {
   "cell_type": "code",
   "execution_count": 5,
   "metadata": {},
   "outputs": [
    {
     "name": "stderr",
     "output_type": "stream",
     "text": [
      "/tmp/ipykernel_4111/2158438405.py:24: RuntimeWarning: invalid value encountered in double_scalars\n",
      "  return V_C(x) + V_bar(x) + hb2_2mu*l*(l+1)/(x**2)\n",
      "/tmp/ipykernel_4111/2158438405.py:24: RuntimeWarning: divide by zero encountered in double_scalars\n",
      "  return V_C(x) + V_bar(x) + hb2_2mu*l*(l+1)/(x**2)\n",
      "/tmp/ipykernel_4111/2158438405.py:24: RuntimeWarning: divide by zero encountered in double_scalars\n",
      "  return V_C(x) + V_bar(x) + hb2_2mu*l*(l+1)/(x**2)\n",
      "/tmp/ipykernel_4111/2158438405.py:24: RuntimeWarning: divide by zero encountered in double_scalars\n",
      "  return V_C(x) + V_bar(x) + hb2_2mu*l*(l+1)/(x**2)\n"
     ]
    },
    {
     "data": {
      "image/png": "[encoded data removed]",
      "text/plain": [
       "<Figure size 432x288 with 1 Axes>"
      ]
     },
     "metadata": {
      "needs_background": "light"
     },
     "output_type": "display_data"
    }
   ],
   "source": [
    "m_a_c2 = 3727.3794066 #MeV\n",
    "\n",
    "mu_c2 = m_a_c2*m_a_c2/(m_a_c2+m_a_c2)\n",
    "\n",
    "hbar_c = 197.3269804 #MeV fm\n",
    "\n",
    "hb2_2mu = (hbar_c**2)/(2*mu_c2)\n",
    "\n",
    "R_C = 4.5 #fm == R_bar\n",
    "V_0 = 60 #MeV\n",
    "\n",
    "e2_4pie0 = 1.44 #MeV fm\n",
    "\n",
    "def V_C(x):\n",
    "    if x>=R_C:\n",
    "        return e2_4pie0/x\n",
    "    else:\n",
    "        return e2_4pie0*(2/R_C)*(3-(x/R_C)**2)\n",
    "    \n",
    "def V_bar(x):\n",
    "    return -V_0*np.exp(-(x/R_C)**2)\n",
    "\n",
    "def V_eff(x, l):\n",
    "    return V_C(x) + V_bar(x) + hb2_2mu*l*(l+1)/(x**2)\n",
    "\n",
    "x = np.linspace(0.001, 30, 1000)\n",
    "\n",
    "l_list = np.arange(0, 7, 2)\n",
    "\n",
    "for l_id, l in enumerate(l_list):\n",
    "    plt.plot(x, np.vectorize(V_eff)(x,l))"
   ]
  },
  {
   "cell_type": "markdown",
   "metadata": {},
   "source": [
    "funciones de Lagrange-Legendre\n",
    "\n",
    "$\\phi_i(r)=(-1)^{N+i}\\left(\\frac{r}{ax_i}\\right)^n\\sqrt{ax_i(1-x_i)}\\frac{P_N(2r/a-1)}{r-ax_i}$"
   ]
  },
  {
   "cell_type": "markdown",
   "metadata": {},
   "source": [
    "pagina 43: elementos de matriz cinética \n",
    "\n",
    "$\\bra{\\phi_i}T_0+L(0)\\ket{\\phi_i}=\\frac{(4N^2+4N+3)x_i(1-x_i)-6x_i+1}{3a^2x_i^2(1-x_i)^2}$\n",
    "\n",
    "$\\bra{\\phi_i}T_0+L(0)\\ket{\\phi_j}=\\frac{(-1)^{i+j}}{a^2[x_ix_j(1-x_i)(1-x_j)]^{1/2}}\\left[N^2+N+1+\\frac{x_i+x_j-2x_ix_j}{(x_i-x_k)^2}-\\frac{1}{1-x_i}-\\frac{1}{1-x_j}\\right]$"
   ]
  },
  {
   "cell_type": "code",
   "execution_count": null,
   "metadata": {},
   "outputs": [],
   "source": []
  }
 ],
 "metadata": {
  "kernelspec": {
   "display_name": "Python 3",
   "language": "python",
   "name": "python3"
  },
  "language_info": {
   "codemirror_mode": {
    "name": "ipython",
    "version": 3
   },
   "file_extension": ".py",
   "mimetype": "text/x-python",
   "name": "python",
   "nbconvert_exporter": "python",
   "pygments_lexer": "ipython3",
   "version": "3.10.12"
  }
 },
 "nbformat": 4,
 "nbformat_minor": 2
}
